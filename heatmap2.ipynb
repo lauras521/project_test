{
 "cells": [
  {
   "cell_type": "code",
   "execution_count": 47,
   "id": "e145d4b5",
   "metadata": {},
   "outputs": [
    {
     "name": "stdout",
     "output_type": "stream",
     "text": [
      "Using matplotlib backend: QtAgg\n"
     ]
    }
   ],
   "source": [
    "# 3D Heatmap in Python using matplotlib\n",
    "  \n",
    "# to make plot interactive \n",
    "%matplotlib\n",
    "  \n",
    "# importing required libraries\n",
    "from mpl_toolkits.mplot3d import Axes3D\n",
    "import matplotlib.pyplot as plt\n",
    "import numpy as np\n",
    "from pylab import *\n",
    "from matplotlib import cm\n",
    "from matplotlib.colors import ListedColormap, LinearSegmentedColormap\n",
    "import matplotlib.colors"
   ]
  },
  {
   "cell_type": "code",
   "execution_count": 50,
   "id": "8ea4b56a",
   "metadata": {},
   "outputs": [],
   "source": [
    "# creating a dummy dataset\n",
    "x_airbnb_price = np.random.randint(low=0, high=300, size=(700,))\n",
    "y_zillow_price = np.random.randint(low=0, high=2000000, size=(700,))\n",
    "z_occupency = np.random.randint(low=0, high=100, size=(700,))\n",
    "z_occupency_decimal = z_occupency/100\n",
    "occupency_days=np.round_(z_occupency_decimal*365,decimals = 0)\n",
    "gross_income = [x_airbnb_price*occupency_days]\n",
    "annual_costs=[12000]*700\n",
    "net_operating_income=np.subtract(gross_income, annual_costs)\n",
    "cap_rate_decimal = net_operating_income/y_zillow_price\n",
    "cap_rate = cap_rate_decimal*100"
   ]
  },
  {
   "cell_type": "markdown",
   "id": "452a782e",
   "metadata": {},
   "source": [
    "### just colormap figure"
   ]
  },
  {
   "cell_type": "code",
   "execution_count": 6,
   "id": "a094b8a9",
   "metadata": {},
   "outputs": [
    {
     "data": {
      "text/plain": [
       "<matplotlib.colorbar.Colorbar at 0x24d9b67e988>"
      ]
     },
     "execution_count": 6,
     "metadata": {},
     "output_type": "execute_result"
    }
   ],
   "source": [
    "fig, ax = plt.subplots(figsize=(6, 1))\n",
    "fig.subplots_adjust(bottom=0.5)\n",
    "\n",
    "cmap = cm.RdYlGn\n",
    "norm = cm.colors.Normalize(vmin=0, vmax=20)\n",
    "\n",
    "fig.colorbar(mpl.cm.ScalarMappable(norm=norm, cmap=cmap),\n",
    "             cax=ax, orientation='horizontal', label='Capitalization Rate (%)')"
   ]
  },
  {
   "cell_type": "markdown",
   "id": "01502d55",
   "metadata": {},
   "source": [
    "### 3D plot of data"
   ]
  },
  {
   "cell_type": "code",
   "execution_count": 7,
   "id": "fac8614f",
   "metadata": {},
   "outputs": [],
   "source": [
    "# creating figures\n",
    "fig = plt.figure(figsize=(10, 10))\n",
    "ax = fig.add_subplot(111, projection='3d')\n",
    "\n",
    "# creating the heatmap\n",
    "img = ax.scatter(x_airbnb_price, y_zillow_price, z_occupency, marker='o', s=120)\n",
    "  \n",
    "# adding title and labels\n",
    "ax.set_title(\"Portland Housing Heatmap\")\n",
    "ax.set_xlabel('Airbnb Price per Night')\n",
    "ax.set_ylabel('Zillow House Price')\n",
    "ax.set_zlabel('Occupency %')\n",
    "  \n",
    "# displaying plot\n",
    "plt.show()"
   ]
  },
  {
   "cell_type": "markdown",
   "id": "9c152a6c",
   "metadata": {},
   "source": [
    "### 3D plot of data with colorbar"
   ]
  },
  {
   "cell_type": "code",
   "execution_count": 8,
   "id": "d7a61dda",
   "metadata": {},
   "outputs": [],
   "source": [
    "# creating figures\n",
    "fig = plt.figure(figsize=(10, 10))\n",
    "ax = fig.add_subplot(111, projection='3d')\n",
    "  \n",
    "# setting color bar\n",
    "color_map = cm.ScalarMappable(cmap=cm.Greens_r)\n",
    "color_map.set_array(cap_rate)\n",
    "\n",
    "# creating the heatmap\n",
    "img = ax.scatter(x_airbnb_price, y_zillow_price, z_occupency, marker='o',\n",
    "                 s=150,color=\"green\")\n",
    "plt.colorbar(color_map)\n",
    "  \n",
    "# adding title and labels\n",
    "ax.set_title(\"Portland Housing Heatmap\")\n",
    "ax.set_xlabel('Airbnb Price per Night')\n",
    "ax.set_ylabel('Zillow House Price')\n",
    "ax.set_zlabel('Occupency %')\n",
    "  \n",
    "# displaying plot\n",
    "plt.show()"
   ]
  },
  {
   "cell_type": "markdown",
   "id": "67b6ee28",
   "metadata": {},
   "source": [
    "### 2D plot of data with color bar, get error if uncomment z"
   ]
  },
  {
   "cell_type": "code",
   "execution_count": 9,
   "id": "1f0c77a2",
   "metadata": {},
   "outputs": [
    {
     "data": {
      "text/plain": [
       "<matplotlib.colorbar.Colorbar at 0x24d9b7695c8>"
      ]
     },
     "execution_count": 9,
     "metadata": {},
     "output_type": "execute_result"
    }
   ],
   "source": [
    "fig, ax = plt.subplots(figsize=(10, 10))\n",
    "fig.subplots_adjust(bottom=0.5)\n",
    "\n",
    "cmap = cm.RdYlGn\n",
    "norm = cm.colors.Normalize(vmin=0, vmax=20)\n",
    "\n",
    "\n",
    "# creating the heatmap\n",
    "img = ax.scatter(x_airbnb_price, y_zillow_price, z_occupency, marker='o',\n",
    "                 cmap=cmap, norm=norm)\n",
    "# plt.colorbar(color_map)\n",
    "  \n",
    "# adding title and labels\n",
    "ax.set_title(\"3D Heatmap\")\n",
    "ax.set_xlabel('Airbnb Price per Night $')\n",
    "ax.set_ylabel('Zillow House Price $')\n",
    "#ax.set_zlabel('Occupency %')\n",
    "  \n",
    "# displaying plot\n",
    "plt.show()\n",
    "\n",
    "fig.colorbar(cm.ScalarMappable(norm=norm, cmap=cmap),\n",
    "             ax=ax, orientation='horizontal', label='Capitalization Rate (%)')"
   ]
  },
  {
   "cell_type": "markdown",
   "id": "42d18621",
   "metadata": {},
   "source": [
    "### 3D plot of data with color bar"
   ]
  },
  {
   "cell_type": "code",
   "execution_count": 10,
   "id": "0e8fa4db",
   "metadata": {},
   "outputs": [
    {
     "ename": "AttributeError",
     "evalue": "'AxesSubplot' object has no attribute 'set_zlabel'",
     "output_type": "error",
     "traceback": [
      "\u001b[1;31m---------------------------------------------------------------------------\u001b[0m",
      "\u001b[1;31mAttributeError\u001b[0m                            Traceback (most recent call last)",
      "\u001b[1;32m~\\AppData\\Local\\Temp/ipykernel_10436/1370231030.py\u001b[0m in \u001b[0;36m<module>\u001b[1;34m\u001b[0m\n\u001b[0;32m     15\u001b[0m \u001b[0max\u001b[0m\u001b[1;33m.\u001b[0m\u001b[0mset_xlabel\u001b[0m\u001b[1;33m(\u001b[0m\u001b[1;34m'Airbnb Price per Night $'\u001b[0m\u001b[1;33m)\u001b[0m\u001b[1;33m\u001b[0m\u001b[1;33m\u001b[0m\u001b[0m\n\u001b[0;32m     16\u001b[0m \u001b[0max\u001b[0m\u001b[1;33m.\u001b[0m\u001b[0mset_ylabel\u001b[0m\u001b[1;33m(\u001b[0m\u001b[1;34m'Zillow House Price $'\u001b[0m\u001b[1;33m)\u001b[0m\u001b[1;33m\u001b[0m\u001b[1;33m\u001b[0m\u001b[0m\n\u001b[1;32m---> 17\u001b[1;33m \u001b[0max\u001b[0m\u001b[1;33m.\u001b[0m\u001b[0mset_zlabel\u001b[0m\u001b[1;33m(\u001b[0m\u001b[1;34m'Occupency %'\u001b[0m\u001b[1;33m)\u001b[0m\u001b[1;33m\u001b[0m\u001b[1;33m\u001b[0m\u001b[0m\n\u001b[0m\u001b[0;32m     18\u001b[0m \u001b[1;33m\u001b[0m\u001b[0m\n\u001b[0;32m     19\u001b[0m \u001b[1;31m# displaying plot\u001b[0m\u001b[1;33m\u001b[0m\u001b[1;33m\u001b[0m\u001b[1;33m\u001b[0m\u001b[0m\n",
      "\u001b[1;31mAttributeError\u001b[0m: 'AxesSubplot' object has no attribute 'set_zlabel'"
     ]
    }
   ],
   "source": [
    "fig, ax = plt.subplots(figsize=(10, 10))\n",
    "fig.subplots_adjust(bottom=0.5)\n",
    "\n",
    "cmap = cm.RdYlGn\n",
    "norm = cm.colors.Normalize(vmin=0, vmax=20)\n",
    "\n",
    "\n",
    "# creating the heatmap\n",
    "img = ax.scatter(x_airbnb_price, y_zillow_price, z_occupency, marker='o',\n",
    "                 cmap=cmap, norm=norm)\n",
    "# plt.colorbar(color_map)\n",
    "  \n",
    "# adding title and labels\n",
    "ax.set_title(\"3D Heatmap\")\n",
    "ax.set_xlabel('Airbnb Price per Night $')\n",
    "ax.set_ylabel('Zillow House Price $')\n",
    "ax.set_zlabel('Occupency %')\n",
    "  \n",
    "# displaying plot\n",
    "plt.show()\n",
    "\n",
    "fig.colorbar(cm.ScalarMappable(norm=norm, cmap=cmap),\n",
    "             ax=ax, orientation='horizontal', label='Capitalization Rate (%)')"
   ]
  },
  {
   "cell_type": "code",
   "execution_count": null,
   "id": "9a48121a",
   "metadata": {},
   "outputs": [],
   "source": [
    "# np.set_printoptions(suppress=True)\n",
    "# print(cap_rate)"
   ]
  },
  {
   "cell_type": "markdown",
   "id": "4767dbb7",
   "metadata": {},
   "source": [
    "## working"
   ]
  },
  {
   "cell_type": "code",
   "execution_count": 28,
   "id": "eabb6543",
   "metadata": {},
   "outputs": [
    {
     "data": {
      "text/plain": [
       "<matplotlib.colorbar.Colorbar at 0x24da35268c8>"
      ]
     },
     "execution_count": 28,
     "metadata": {},
     "output_type": "execute_result"
    }
   ],
   "source": [
    "from mpl_toolkits.mplot3d import Axes3D\n",
    "fig = plt.figure()\n",
    "ax = fig.add_subplot(111, projection='3d')\n",
    "\n",
    "p = ax.scatter(x_airbnb_price, y_zillow_price, z_occupency, c=cap_rate, cmap='RdYlGn')\n",
    "\n",
    "# adding title and labels\n",
    "ax.set_title(\"Portland Housing Heat Map\")\n",
    "ax.set_xlabel('Airbnb Price per Night $')\n",
    "ax.set_ylabel('Zillow House Price $')\n",
    "ax.set_zlabel('Occupency %')\n",
    "\n",
    "fig.colorbar(p, ax=ax)"
   ]
  },
  {
   "cell_type": "markdown",
   "id": "54caee71",
   "metadata": {},
   "source": [
    "## test from working"
   ]
  },
  {
   "cell_type": "code",
   "execution_count": 51,
   "id": "5bdce0f0",
   "metadata": {},
   "outputs": [
    {
     "data": {
      "text/plain": [
       "<matplotlib.colorbar.Colorbar at 0x24daa003608>"
      ]
     },
     "execution_count": 51,
     "metadata": {},
     "output_type": "execute_result"
    }
   ],
   "source": [
    "from mpl_toolkits.mplot3d import Axes3D\n",
    "fig, ax = plt.subplots(figsize=(10, 10))\n",
    "fig = plt.figure()\n",
    "ax = fig.add_subplot(111, projection='3d')\n",
    "\n",
    "colours = ['darkred', 'orangered', 'coral', 'yellow', 'yellowgreen', 'green','darkgreen','darkgreen','darkgreen' ]\n",
    "bins = [0 , 2.5, 5 , 7 , 10 , 12, 15, 17.5, 20]\n",
    "\n",
    "\n",
    "assert len(bins)== len(colours)\n",
    "cmap = mpl.colors.ListedColormap(colours)\n",
    "norm = mpl.colors.BoundaryNorm(boundaries=bins, ncolors=len(cmap.colors)-1 )\n",
    "\n",
    "p = ax.scatter(x_airbnb_price, y_zillow_price, z_occupency, c=cap_rate, cmap=cmap, norm=norm, s=70)\n",
    "\n",
    "# adding title and labels\n",
    "ax.set_title(\"Portland Housing Heat Map\")\n",
    "ax.set_xlabel('Airbnb Price per Night $')\n",
    "ax.set_ylabel('Zillow House Price $')\n",
    "ax.set_zlabel('Occupency %')\n",
    "\n",
    "fig.colorbar(p, ax=ax)\n"
   ]
  },
  {
   "cell_type": "markdown",
   "id": "395c0b3b",
   "metadata": {},
   "source": [
    "## test 2 from working"
   ]
  },
  {
   "cell_type": "code",
   "execution_count": null,
   "id": "77750be3",
   "metadata": {},
   "outputs": [],
   "source": [
    "from mpl_toolkits.mplot3d import Axes3D\n",
    "fig, ax = plt.subplots(figsize=(10, 10))\n",
    "fig = plt.figure()\n",
    "ax = fig.add_subplot(111, projection='3d')\n",
    "\n",
    "colours = ['darkred', 'orangered', 'coral', 'yellow', 'yellowgreen', 'green','darkgreen','darkgreen','darkgreen' ]\n",
    "bins = [0 , 2.5, 5 , 7 , 10 , 12, 15, 17.5, 20]\n",
    "\n",
    "\n",
    "assert len(bins)== len(colours)\n",
    "cmap = mpl.colors.ListedColormap(colours)\n",
    "norm = mpl.colors.BoundaryNorm(boundaries=bins, ncolors=len(cmap.colors)-1 )\n",
    "\n",
    "p = ax.scatter(x_airbnb_price, y_zillow_price, z_occupency, c=cap_rate, cmap=cmap, norm=norm, s=70)\n",
    "\n",
    "# adding title and labels\n",
    "ax.set_title(\"Portland Housing Heat Map\")\n",
    "ax.set_xlabel('Airbnb Price per Night $')\n",
    "ax.set_ylabel('Zillow House Price $')\n",
    "ax.set_zlabel('Occupency %')\n",
    "\n",
    "fig.colorbar(p, ax=ax)\n"
   ]
  },
  {
   "cell_type": "code",
   "execution_count": 46,
   "id": "fb0ad181",
   "metadata": {},
   "outputs": [
    {
     "data": {
      "text/plain": [
       "<matplotlib.colorbar.Colorbar at 0x24da9066048>"
      ]
     },
     "execution_count": 46,
     "metadata": {},
     "output_type": "execute_result"
    }
   ],
   "source": [
    "from mpl_toolkits.mplot3d import Axes3D\n",
    "fig = plt.figure()\n",
    "ax = fig.add_subplot(111, projection='3d')\n",
    "\n",
    "from  matplotlib.colors import LinearSegmentedColormap\n",
    "c = [\"darkred\",\"red\",\"lightcoral\",\"white\", \"palegreen\",\"green\",\"darkgreen\"]\n",
    "v = [0,.15,.4,.5,0.6,.9,1.]\n",
    "l = list(zip(v,c))\n",
    "cmap=LinearSegmentedColormap.from_list('rg',l, N=256)\n",
    "\n",
    "\n",
    "p = ax.scatter(x_airbnb_price, y_zillow_price, z_occupency, c=cap_rate, cmap=cmap)\n",
    "\n",
    "# adding title and labels\n",
    "ax.set_title(\"Portland Housing Heat Map\")\n",
    "ax.set_xlabel('Airbnb Price per Night $')\n",
    "ax.set_ylabel('Zillow House Price $')\n",
    "ax.set_zlabel('Occupency %')\n",
    "\n",
    "fig.colorbar(p, ax=ax)"
   ]
  },
  {
   "cell_type": "code",
   "execution_count": null,
   "id": "e1179fd6",
   "metadata": {},
   "outputs": [],
   "source": []
  },
  {
   "cell_type": "markdown",
   "id": "5e155978",
   "metadata": {},
   "source": [
    "### test from stack overflow"
   ]
  },
  {
   "cell_type": "code",
   "execution_count": 15,
   "id": "d4032831",
   "metadata": {},
   "outputs": [],
   "source": [
    "import matplotlib.pyplot as plt\n",
    "cm = plt.cm.get_cmap('RdYlBu')\n",
    "xy = range(20)\n",
    "z = xy\n",
    "sc = plt.scatter(xy, xy, c=z, vmin=0, vmax=20, s=35, cmap=cm)\n",
    "plt.colorbar(sc)\n",
    "plt.show()"
   ]
  },
  {
   "cell_type": "code",
   "execution_count": null,
   "id": "d2a592d6",
   "metadata": {},
   "outputs": [],
   "source": []
  },
  {
   "cell_type": "code",
   "execution_count": 16,
   "id": "d33ed0bc",
   "metadata": {},
   "outputs": [],
   "source": [
    "import matplotlib.pyplot as plt\n",
    "import numpy as np\n",
    "\n",
    "# Fixing random state for reproducibility\n",
    "np.random.seed(19680801)\n",
    "\n",
    "\n",
    "def randrange(n, vmin, vmax):\n",
    "    \"\"\"\n",
    "    Helper function to make an array of random numbers having shape (n, )\n",
    "    with each number distributed Uniform(vmin, vmax).\n",
    "    \"\"\"\n",
    "    return (vmax - vmin)*np.random.rand(n) + vmin\n",
    "\n",
    "fig = plt.figure()\n",
    "ax = fig.add_subplot(projection='3d')\n",
    "\n",
    "n = 100\n",
    "\n",
    "# For each set of style and range settings, plot n random points in the box\n",
    "# defined by x in [23, 32], y in [0, 100], z in [zlow, zhigh].\n",
    "for m, zlow, zhigh in [('o', -50, -25), ('^', -30, -5)]:\n",
    "    xs = randrange(n, 23, 32)\n",
    "    ys = randrange(n, 0, 100)\n",
    "    zs = randrange(n, zlow, zhigh)\n",
    "    ax.scatter(xs, ys, zs, marker=m)\n",
    "\n",
    "ax.set_xlabel('X Label')\n",
    "ax.set_ylabel('Y Label')\n",
    "ax.set_zlabel('Z Label')\n",
    "\n",
    "plt.show()"
   ]
  },
  {
   "cell_type": "code",
   "execution_count": null,
   "id": "4634d9d0",
   "metadata": {},
   "outputs": [],
   "source": []
  },
  {
   "cell_type": "code",
   "execution_count": null,
   "id": "8ac95c32",
   "metadata": {},
   "outputs": [],
   "source": []
  },
  {
   "cell_type": "code",
   "execution_count": null,
   "id": "70cf345f",
   "metadata": {},
   "outputs": [],
   "source": []
  },
  {
   "cell_type": "code",
   "execution_count": null,
   "id": "15112205",
   "metadata": {},
   "outputs": [],
   "source": []
  },
  {
   "cell_type": "code",
   "execution_count": 47,
   "id": "6ee050c7",
   "metadata": {},
   "outputs": [],
   "source": []
  },
  {
   "cell_type": "code",
   "execution_count": null,
   "id": "1ace25b6",
   "metadata": {},
   "outputs": [],
   "source": []
  },
  {
   "cell_type": "code",
   "execution_count": null,
   "id": "674b1062",
   "metadata": {},
   "outputs": [],
   "source": []
  }
 ],
 "metadata": {
  "kernelspec": {
   "display_name": "PythonData",
   "language": "python",
   "name": "pythondata"
  },
  "language_info": {
   "codemirror_mode": {
    "name": "ipython",
    "version": 3
   },
   "file_extension": ".py",
   "mimetype": "text/x-python",
   "name": "python",
   "nbconvert_exporter": "python",
   "pygments_lexer": "ipython3",
   "version": "3.7.11"
  }
 },
 "nbformat": 4,
 "nbformat_minor": 5
}
