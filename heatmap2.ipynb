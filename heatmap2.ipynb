{
 "cells": [
  {
   "cell_type": "code",
   "execution_count": 37,
   "id": "e145d4b5",
   "metadata": {},
   "outputs": [
    {
     "name": "stdout",
     "output_type": "stream",
     "text": [
      "Using matplotlib backend: QtAgg\n"
     ]
    }
   ],
   "source": [
    "# 3D Heatmap in Python using matplotlib\n",
    "  \n",
    "# to make plot interactive \n",
    "%matplotlib\n",
    "  \n",
    "# importing required libraries\n",
    "from mpl_toolkits.mplot3d import Axes3D\n",
    "import matplotlib.pyplot as plt\n",
    "import numpy as np\n",
    "from pylab import *\n",
    "from matplotlib import cm\n",
    "from matplotlib.colors import ListedColormap, LinearSegmentedColormap\n",
    "import matplotlib.colors"
   ]
  },
  {
   "cell_type": "code",
   "execution_count": 39,
   "id": "8ea4b56a",
   "metadata": {},
   "outputs": [],
   "source": [
    "# creating a dummy dataset\n",
    "x_airbnb_price = np.random.randint(low=0, high=500, size=(300,))\n",
    "y_zillow_price = np.random.randint(low=0, high=4000000, size=(300,))\n",
    "z_occupency = np.random.randint(low=0, high=100, size=(300,))\n",
    "z_occupency_decimal = z_occupency/100\n",
    "occupency_days=np.round_(z_occupency_decimal*365,decimals = 0)\n",
    "gross_income = [x_airbnb_price*occupency_days]\n",
    "annual_costs=[12000]*300\n",
    "net_operating_income=np.subtract(gross_income, annual_costs)\n",
    "cap_rate_decimal = net_operating_income/y_zillow_price\n",
    "cap_rate = cap_rate_decimal*100"
   ]
  },
  {
   "cell_type": "markdown",
   "id": "452a782e",
   "metadata": {},
   "source": [
    "### just colormap figure"
   ]
  },
  {
   "cell_type": "code",
   "execution_count": 40,
   "id": "a094b8a9",
   "metadata": {},
   "outputs": [
    {
     "data": {
      "text/plain": [
       "<matplotlib.colorbar.Colorbar at 0x2522948bc08>"
      ]
     },
     "execution_count": 40,
     "metadata": {},
     "output_type": "execute_result"
    }
   ],
   "source": [
    "fig, ax = plt.subplots(figsize=(6, 1))\n",
    "fig.subplots_adjust(bottom=0.5)\n",
    "\n",
    "cmap = cm.RdYlGn\n",
    "norm = cm.colors.Normalize(vmin=0, vmax=20)\n",
    "\n",
    "fig.colorbar(mpl.cm.ScalarMappable(norm=norm, cmap=cmap),\n",
    "             cax=ax, orientation='horizontal', label='Capitalization Rate (%)')"
   ]
  },
  {
   "cell_type": "markdown",
   "id": "01502d55",
   "metadata": {},
   "source": [
    "### 3D plot of data"
   ]
  },
  {
   "cell_type": "code",
   "execution_count": 41,
   "id": "fac8614f",
   "metadata": {},
   "outputs": [],
   "source": [
    "# creating figures\n",
    "fig = plt.figure(figsize=(10, 10))\n",
    "ax = fig.add_subplot(111, projection='3d')\n",
    "\n",
    "# creating the heatmap\n",
    "img = ax.scatter(x_airbnb_price, y_zillow_price, z_occupency, marker='o', s=120)\n",
    "  \n",
    "# adding title and labels\n",
    "ax.set_title(\"Portland Housing Heatmap\")\n",
    "ax.set_xlabel('Airbnb Price per Night')\n",
    "ax.set_ylabel('Zillow House Price')\n",
    "ax.set_zlabel('Occupency %')\n",
    "  \n",
    "# displaying plot\n",
    "plt.show()"
   ]
  },
  {
   "cell_type": "markdown",
   "id": "9c152a6c",
   "metadata": {},
   "source": [
    "### 3D plot of data with colorbar"
   ]
  },
  {
   "cell_type": "code",
   "execution_count": 42,
   "id": "d7a61dda",
   "metadata": {},
   "outputs": [],
   "source": [
    "# creating figures\n",
    "fig = plt.figure(figsize=(10, 10))\n",
    "ax = fig.add_subplot(111, projection='3d')\n",
    "  \n",
    "# setting color bar\n",
    "color_map = cm.ScalarMappable(cmap=cm.Greens_r)\n",
    "color_map.set_array(cap_rate)\n",
    "\n",
    "# creating the heatmap\n",
    "img = ax.scatter(x_airbnb_price, y_zillow_price, z_occupency, marker='o',\n",
    "                 s=150,color=\"green\")\n",
    "plt.colorbar(color_map)\n",
    "  \n",
    "# adding title and labels\n",
    "ax.set_title(\"Portland Housing Heatmap\")\n",
    "ax.set_xlabel('Airbnb Price per Night')\n",
    "ax.set_ylabel('Zillow House Price')\n",
    "ax.set_zlabel('Occupency %')\n",
    "  \n",
    "# displaying plot\n",
    "plt.show()"
   ]
  },
  {
   "cell_type": "markdown",
   "id": "67b6ee28",
   "metadata": {},
   "source": [
    "### 2D plot of data with color bar, get error if uncomment z"
   ]
  },
  {
   "cell_type": "code",
   "execution_count": 43,
   "id": "1f0c77a2",
   "metadata": {},
   "outputs": [
    {
     "data": {
      "text/plain": [
       "<matplotlib.colorbar.Colorbar at 0x252292b3688>"
      ]
     },
     "execution_count": 43,
     "metadata": {},
     "output_type": "execute_result"
    }
   ],
   "source": [
    "fig, ax = plt.subplots(figsize=(10, 10))\n",
    "fig.subplots_adjust(bottom=0.5)\n",
    "\n",
    "cmap = cm.RdYlGn\n",
    "norm = cm.colors.Normalize(vmin=0, vmax=20)\n",
    "\n",
    "\n",
    "# creating the heatmap\n",
    "img = ax.scatter(x_airbnb_price, y_zillow_price, z_occupency, marker='o',\n",
    "                 cmap=cmap, norm=norm)\n",
    "# plt.colorbar(color_map)\n",
    "  \n",
    "# adding title and labels\n",
    "ax.set_title(\"3D Heatmap\")\n",
    "ax.set_xlabel('Airbnb Price per Night $')\n",
    "ax.set_ylabel('Zillow House Price $')\n",
    "#ax.set_zlabel('Occupency %')\n",
    "  \n",
    "# displaying plot\n",
    "plt.show()\n",
    "\n",
    "fig.colorbar(cm.ScalarMappable(norm=norm, cmap=cmap),\n",
    "             ax=ax, orientation='horizontal', label='Capitalization Rate (%)')"
   ]
  },
  {
   "cell_type": "markdown",
   "id": "42d18621",
   "metadata": {},
   "source": [
    "### 3D plot of data with color bar"
   ]
  },
  {
   "cell_type": "code",
   "execution_count": 50,
   "id": "0e8fa4db",
   "metadata": {},
   "outputs": [
    {
     "ename": "AttributeError",
     "evalue": "'AxesSubplot' object has no attribute 'set_zlabel'",
     "output_type": "error",
     "traceback": [
      "\u001b[1;31m---------------------------------------------------------------------------\u001b[0m",
      "\u001b[1;31mAttributeError\u001b[0m                            Traceback (most recent call last)",
      "\u001b[1;32m~\\AppData\\Local\\Temp/ipykernel_22228/1370231030.py\u001b[0m in \u001b[0;36m<module>\u001b[1;34m\u001b[0m\n\u001b[0;32m     15\u001b[0m \u001b[0max\u001b[0m\u001b[1;33m.\u001b[0m\u001b[0mset_xlabel\u001b[0m\u001b[1;33m(\u001b[0m\u001b[1;34m'Airbnb Price per Night $'\u001b[0m\u001b[1;33m)\u001b[0m\u001b[1;33m\u001b[0m\u001b[1;33m\u001b[0m\u001b[0m\n\u001b[0;32m     16\u001b[0m \u001b[0max\u001b[0m\u001b[1;33m.\u001b[0m\u001b[0mset_ylabel\u001b[0m\u001b[1;33m(\u001b[0m\u001b[1;34m'Zillow House Price $'\u001b[0m\u001b[1;33m)\u001b[0m\u001b[1;33m\u001b[0m\u001b[1;33m\u001b[0m\u001b[0m\n\u001b[1;32m---> 17\u001b[1;33m \u001b[0max\u001b[0m\u001b[1;33m.\u001b[0m\u001b[0mset_zlabel\u001b[0m\u001b[1;33m(\u001b[0m\u001b[1;34m'Occupency %'\u001b[0m\u001b[1;33m)\u001b[0m\u001b[1;33m\u001b[0m\u001b[1;33m\u001b[0m\u001b[0m\n\u001b[0m\u001b[0;32m     18\u001b[0m \u001b[1;33m\u001b[0m\u001b[0m\n\u001b[0;32m     19\u001b[0m \u001b[1;31m# displaying plot\u001b[0m\u001b[1;33m\u001b[0m\u001b[1;33m\u001b[0m\u001b[1;33m\u001b[0m\u001b[0m\n",
      "\u001b[1;31mAttributeError\u001b[0m: 'AxesSubplot' object has no attribute 'set_zlabel'"
     ]
    }
   ],
   "source": [
    "fig, ax = plt.subplots(figsize=(10, 10))\n",
    "fig.subplots_adjust(bottom=0.5)\n",
    "\n",
    "cmap = cm.RdYlGn\n",
    "norm = cm.colors.Normalize(vmin=0, vmax=20)\n",
    "\n",
    "\n",
    "# creating the heatmap\n",
    "img = ax.scatter(x_airbnb_price, y_zillow_price, z_occupency, marker='o',\n",
    "                 cmap=cmap, norm=norm)\n",
    "# plt.colorbar(color_map)\n",
    "  \n",
    "# adding title and labels\n",
    "ax.set_title(\"3D Heatmap\")\n",
    "ax.set_xlabel('Airbnb Price per Night $')\n",
    "ax.set_ylabel('Zillow House Price $')\n",
    "ax.set_zlabel('Occupency %')\n",
    "  \n",
    "# displaying plot\n",
    "plt.show()\n",
    "\n",
    "fig.colorbar(cm.ScalarMappable(norm=norm, cmap=cmap),\n",
    "             ax=ax, orientation='horizontal', label='Capitalization Rate (%)')"
   ]
  },
  {
   "cell_type": "code",
   "execution_count": 2,
   "id": "9a48121a",
   "metadata": {},
   "outputs": [],
   "source": [
    "# np.set_printoptions(suppress=True)\n",
    "# print(cap_rate)"
   ]
  },
  {
   "cell_type": "code",
   "execution_count": null,
   "id": "eabb6543",
   "metadata": {},
   "outputs": [],
   "source": []
  },
  {
   "cell_type": "code",
   "execution_count": null,
   "id": "1671d560",
   "metadata": {},
   "outputs": [],
   "source": []
  },
  {
   "cell_type": "code",
   "execution_count": null,
   "id": "d4032831",
   "metadata": {},
   "outputs": [],
   "source": []
  },
  {
   "cell_type": "code",
   "execution_count": null,
   "id": "d2a592d6",
   "metadata": {},
   "outputs": [],
   "source": []
  },
  {
   "cell_type": "code",
   "execution_count": null,
   "id": "d33ed0bc",
   "metadata": {},
   "outputs": [],
   "source": []
  },
  {
   "cell_type": "code",
   "execution_count": null,
   "id": "4634d9d0",
   "metadata": {},
   "outputs": [],
   "source": []
  },
  {
   "cell_type": "code",
   "execution_count": null,
   "id": "8ac95c32",
   "metadata": {},
   "outputs": [],
   "source": []
  },
  {
   "cell_type": "code",
   "execution_count": null,
   "id": "70cf345f",
   "metadata": {},
   "outputs": [],
   "source": []
  },
  {
   "cell_type": "code",
   "execution_count": null,
   "id": "15112205",
   "metadata": {},
   "outputs": [],
   "source": []
  },
  {
   "cell_type": "code",
   "execution_count": 47,
   "id": "6ee050c7",
   "metadata": {},
   "outputs": [],
   "source": []
  },
  {
   "cell_type": "code",
   "execution_count": null,
   "id": "1ace25b6",
   "metadata": {},
   "outputs": [],
   "source": []
  },
  {
   "cell_type": "code",
   "execution_count": null,
   "id": "674b1062",
   "metadata": {},
   "outputs": [],
   "source": []
  }
 ],
 "metadata": {
  "kernelspec": {
   "display_name": "PythonData",
   "language": "python",
   "name": "pythondata"
  },
  "language_info": {
   "codemirror_mode": {
    "name": "ipython",
    "version": 3
   },
   "file_extension": ".py",
   "mimetype": "text/x-python",
   "name": "python",
   "nbconvert_exporter": "python",
   "pygments_lexer": "ipython3",
   "version": "3.7.11"
  }
 },
 "nbformat": 4,
 "nbformat_minor": 5
}
