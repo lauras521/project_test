{
 "cells": [
  {
   "cell_type": "code",
   "execution_count": 4,
   "id": "e145d4b5",
   "metadata": {},
   "outputs": [
    {
     "name": "stdout",
     "output_type": "stream",
     "text": [
      "Using matplotlib backend: QtAgg\n"
     ]
    }
   ],
   "source": [
    "# 3D Heatmap in Python using matplotlib\n",
    "  \n",
    "# to make plot interactive \n",
    "%matplotlib\n",
    "  \n",
    "# importing required libraries\n",
    "from mpl_toolkits.mplot3d import Axes3D\n",
    "import matplotlib.pyplot as plt\n",
    "import numpy as np\n",
    "from pylab import *\n",
    "from matplotlib import cm\n",
    "from matplotlib.colors import ListedColormap, LinearSegmentedColormap\n",
    "import matplotlib.colors"
   ]
  },
  {
   "cell_type": "code",
   "execution_count": 5,
   "id": "a094b8a9",
   "metadata": {},
   "outputs": [
    {
     "data": {
      "text/plain": [
       "<matplotlib.colorbar.Colorbar at 0x25e403806c8>"
      ]
     },
     "execution_count": 5,
     "metadata": {},
     "output_type": "execute_result"
    }
   ],
   "source": [
    "import matplotlib.pyplot as plt\n",
    "import matplotlib as mpl\n",
    "\n",
    "fig, ax = plt.subplots(figsize=(6, 1))\n",
    "fig.subplots_adjust(bottom=0.5)\n",
    "\n",
    "cmap = mpl.cm.RdYlGn\n",
    "norm = mpl.colors.Normalize(vmin=0, vmax=20)\n",
    "\n",
    "fig.colorbar(mpl.cm.ScalarMappable(norm=norm, cmap=cmap),\n",
    "             cax=ax, orientation='horizontal', label='Capitalization Rate (%)')"
   ]
  },
  {
   "cell_type": "code",
   "execution_count": 6,
   "id": "d7a61dda",
   "metadata": {},
   "outputs": [],
   "source": [
    "# creating a dummy dataset\n",
    "x_airbnb_price = np.random.randint(low=0, high=500, size=(300,))\n",
    "y_zillow_price = np.random.randint(low=0, high=4000000, size=(300,))\n",
    "z_occupency = np.random.randint(low=0, high=100, size=(300,))\n",
    "z_occupency_decimal = z_occupency/100\n",
    "occupency_days=np.round_(z_occupency_decimal*365,decimals = 0)\n",
    "gross_income = [x_airbnb_price*occupency_days]\n",
    "annual_costs=[12000]*300\n",
    "net_operating_income=np.subtract(gross_income, annual_costs)\n",
    "cap_rate_decimal = net_operating_income/y_zillow_price\n",
    "cap_rate = cap_rate_decimal*100\n",
    "\n",
    "# creating figures\n",
    "fig = plt.figure(figsize=(10, 10))\n",
    "ax = fig.add_subplot(111, projection='3d')\n",
    "  \n",
    "# setting color bar\n",
    "color_map = cm.ScalarMappable(cmap=cm.Greens_r)\n",
    "color_map.set_array(cap_rate)\n",
    "\n",
    "# creating the heatmap\n",
    "img = ax.scatter(x_airbnb_price, y_zillow_price, z_occupency, marker='o',\n",
    "                 s=150,color=\"green\")\n",
    "plt.colorbar(color_map)\n",
    "  \n",
    "# adding title and labels\n",
    "ax.set_title(\"3D Heatmap\")\n",
    "ax.set_xlabel('Airbnb Price per Night')\n",
    "ax.set_ylabel('Zillow House Price')\n",
    "ax.set_zlabel('Occupency %')\n",
    "  \n",
    "# displaying plot\n",
    "plt.show()"
   ]
  },
  {
   "cell_type": "code",
   "execution_count": 78,
   "id": "1f0c77a2",
   "metadata": {},
   "outputs": [
    {
     "ename": "AttributeError",
     "evalue": "'AxesSubplot' object has no attribute 'set_zlabel'",
     "output_type": "error",
     "traceback": [
      "\u001b[1;31m---------------------------------------------------------------------------\u001b[0m",
      "\u001b[1;31mAttributeError\u001b[0m                            Traceback (most recent call last)",
      "\u001b[1;32m~\\AppData\\Local\\Temp/ipykernel_3348/2079046886.py\u001b[0m in \u001b[0;36m<module>\u001b[1;34m\u001b[0m\n\u001b[0;32m     56\u001b[0m \u001b[0max\u001b[0m\u001b[1;33m.\u001b[0m\u001b[0mset_xlabel\u001b[0m\u001b[1;33m(\u001b[0m\u001b[1;34m'Airbnb Price per Night $'\u001b[0m\u001b[1;33m)\u001b[0m\u001b[1;33m\u001b[0m\u001b[1;33m\u001b[0m\u001b[0m\n\u001b[0;32m     57\u001b[0m \u001b[0max\u001b[0m\u001b[1;33m.\u001b[0m\u001b[0mset_ylabel\u001b[0m\u001b[1;33m(\u001b[0m\u001b[1;34m'Zillow House Price $'\u001b[0m\u001b[1;33m)\u001b[0m\u001b[1;33m\u001b[0m\u001b[1;33m\u001b[0m\u001b[0m\n\u001b[1;32m---> 58\u001b[1;33m \u001b[0max\u001b[0m\u001b[1;33m.\u001b[0m\u001b[0mset_zlabel\u001b[0m\u001b[1;33m(\u001b[0m\u001b[1;34m'Occupency %'\u001b[0m\u001b[1;33m)\u001b[0m\u001b[1;33m\u001b[0m\u001b[1;33m\u001b[0m\u001b[0m\n\u001b[0m\u001b[0;32m     59\u001b[0m \u001b[1;33m\u001b[0m\u001b[0m\n\u001b[0;32m     60\u001b[0m \u001b[1;31m# displaying plot\u001b[0m\u001b[1;33m\u001b[0m\u001b[1;33m\u001b[0m\u001b[1;33m\u001b[0m\u001b[0m\n",
      "\u001b[1;31mAttributeError\u001b[0m: 'AxesSubplot' object has no attribute 'set_zlabel'"
     ]
    }
   ],
   "source": [
    "# creating a dummy dataset\n",
    "x_airbnb_price = np.random.randint(low=0, high=500, size=(300,))\n",
    "y_zillow_price = np.random.randint(low=0, high=4000000, size=(300,))\n",
    "z_occupency = np.random.randint(low=0, high=100, size=(300,))\n",
    "z_occupency_decimal = z_occupency/100\n",
    "occupency_days=np.round_(z_occupency_decimal*365,decimals = 0)\n",
    "gross_income = [x_airbnb_price*occupency_days]\n",
    "annual_costs=[12000]*300\n",
    "net_operating_income=np.subtract(gross_income, annual_costs)\n",
    "cap_rate_decimal = net_operating_income/y_zillow_price\n",
    "cap_rate = cap_rate_decimal*100\n",
    "\n",
    "\n",
    "fig, ax = plt.subplots(figsize=(6, 1))\n",
    "fig.subplots_adjust(bottom=0.5)\n",
    "\n",
    "cmap = mpl.cm.RdYlGn\n",
    "norm = mpl.colors.Normalize(vmin=0, vmax=20)\n",
    "\n",
    "# fig.colorbar(mpl.cm.ScalarMappable(norm=norm, cmap=cmap),\n",
    "#              cax=ax, orientation='horizontal', label='Capitalization Rate (%)')\n",
    "\n",
    "# # creating figures\n",
    "# fig = plt.figure(figsize=(10, 10))\n",
    "# ax = fig.add_subplot(111, projection='3d')\n",
    "  \n",
    "# # setting color bar\n",
    "# color_map = cm.ScalarMappable(cmap=cm.Greens_r)\n",
    "# color_map.set_array(cap_rate)\n",
    "\n",
    "\n",
    "# cmap = (mpl.colors.ListedColormap(['red', 'yellow', 'green'])\n",
    "#         .with_extremes(over='0.25', under='0.75'))\n",
    "# bounds = [0, 5, 15]\n",
    "# norm = mpl.colors.BoundaryNorm(bounds, cmap.N)\n",
    "# fig.colorbar(\n",
    "#     mpl.cm.ScalarMappable(cmap=cmap, norm=norm),\n",
    "#     cax=ax,\n",
    "#     boundaries=[0] + bounds + [30],  # Adding values for extensions.\n",
    "#     extend='both',\n",
    "#     ticks=bounds,\n",
    "#     spacing='proportional',\n",
    "#     orientation='horizontal',\n",
    "#     label='Discrete intervals, some other units',\n",
    "# )\n",
    "\n",
    "\n",
    "\n",
    "# creating the heatmap\n",
    "img = ax.scatter(x_airbnb_price, y_zillow_price, z_occupency, marker='o',\n",
    "                 cmap=cmap, norm=norm)\n",
    "# plt.colorbar(color_map)\n",
    "  \n",
    "# adding title and labels\n",
    "ax.set_title(\"3D Heatmap\")\n",
    "ax.set_xlabel('Airbnb Price per Night $')\n",
    "ax.set_ylabel('Zillow House Price $')\n",
    "ax.set_zlabel('Occupency %')\n",
    "  \n",
    "# displaying plot\n",
    "plt.show()"
   ]
  },
  {
   "cell_type": "code",
   "execution_count": null,
   "id": "7c657bd6",
   "metadata": {},
   "outputs": [],
   "source": [
    "# creating a dummy dataset\n",
    "x_airbnb_price = np.random.randint(low=0, high=500, size=(300,))\n",
    "y_zillow_price = np.random.randint(low=0, high=4000000, size=(300,))\n",
    "z_occupency = np.random.randint(low=0, high=100, size=(300,))\n",
    "z_occupency_decimal = z_occupency/100\n",
    "occupency_days=np.round_(z_occupency_decimal*365,decimals = 0)\n",
    "gross_income = [x_airbnb_price*occupency_days]\n",
    "annual_costs=[12000]*300\n",
    "net_operating_income=np.subtract(gross_income, annual_costs)\n",
    "cap_rate_decimal = net_operating_income/y_zillow_price\n",
    "cap_rate = cap_rate_decimal*100\n",
    "\n",
    "\n",
    "fig, ax = plt.subplots(figsize=(6, 1))\n",
    "fig.subplots_adjust(bottom=0.5)\n",
    "\n",
    "cmap = mpl.cm.RdYlGn\n",
    "norm = mpl.colors.Normalize(vmin=0, vmax=20)\n",
    "\n",
    "# fig.colorbar(mpl.cm.ScalarMappable(norm=norm, cmap=cmap),\n",
    "             cax=ax, orientation='horizontal', label='Capitalization Rate (%)')\n",
    "\n",
    "# creating the heatmap\n",
    "plt.scatter(x_airbnb_price, y_zillow_price, z_occupency, marker='o')\n",
    "img = plt.scatter(x_airbnb_price, y_zillow_price, z_occupency, marker='o')\n",
    "# plt.colorbar(color_map)\n",
    "  \n",
    "# adding title and labels\n",
    "ax.set_title(\"3D Heatmap\")\n",
    "ax.set_xlabel('Airbnb Price per Night')\n",
    "ax.set_ylabel('Zillow House Price')\n",
    "ax.set_zlabel('Occupency %')\n",
    "  \n",
    "# displaying plot\n",
    "plt.show()"
   ]
  },
  {
   "cell_type": "code",
   "execution_count": 45,
   "id": "9a48121a",
   "metadata": {},
   "outputs": [
    {
     "name": "stdout",
     "output_type": "stream",
     "text": [
      "[[  1.75403121  -0.31082371   6.36082346  -0.38726985   2.66293763\n",
      "    0.98788476  -0.28330978   0.40034761  -0.12143965   0.25217298\n",
      "    0.07757179  -0.27853794   1.1598793    5.44079034  -0.70306098\n",
      "    0.85388713   2.41844909  -0.25190992   6.05119235   9.0893762\n",
      "    0.90404685  -0.33920808   4.97135814   1.08521588   1.05692758\n",
      "   -6.1589859    4.87020446   0.28766912  -1.93142394  12.56316844\n",
      "   11.11883599   1.5799822   -4.15541207   0.29963951   0.88625383\n",
      "    0.34708252   0.58114617   5.68538872   0.18546126   0.66759189\n",
      "    1.06860343   8.39218389   2.98048628   1.45874288   1.89840377\n",
      "    0.12808505   0.32896501   3.25270025   2.88569858   3.24389485\n",
      "   -0.24484945  -0.21747808  -1.85325889   9.10619231  -0.33004049\n",
      "    0.65688491  -0.14957501   1.0945007   -0.90826596  22.07918322\n",
      "    5.32664556  -9.65686506  72.62074759  19.42037264   4.65270212\n",
      "    0.49802121   3.04081353   6.36813235   0.93949427   1.35637191\n",
      "    0.59131072  -0.63566001   4.03447011   0.34489921   2.38931202\n",
      "    1.99016849   9.5821548   -0.19279888   0.94682368  -0.40706492\n",
      "  656.64835165  -0.66347357   1.23665461  -0.25616674   0.39344049\n",
      "  -12.3586894   -5.05121525  -0.12520158  10.2451998    5.42116035\n",
      "    1.01958269   3.45385108  -2.42814902   8.04126774  -0.2680463\n",
      "   13.69318861   4.18913412  -0.01292313   1.56863179   0.60978073\n",
      "    1.51295698   4.40415517  -0.09188619  -0.82058623   0.77235347\n",
      "  105.85065435   0.94203065  -0.00641774   5.1588151   12.80752908\n",
      "    0.01117452   0.18922307   0.20442081   2.5423562    6.7931022\n",
      "   -0.01149878  -0.19489046   1.55554312   8.42914564   0.75158125\n",
      "    4.22129468  11.14317761   0.68149478   0.84499425   0.86011409\n",
      "    1.57325395   1.4956714   -1.4703327    0.08940251  -0.38058855\n",
      "    0.43335892   0.15628362   0.97453012   3.93135246  -1.6818054\n",
      "    0.02374674   0.58272822   0.06489899  -0.0075266   -0.06690755\n",
      "   -0.1774098   -0.865635     4.73338566   2.88161187   0.10120056\n",
      "    2.67076357  -1.56751497  20.68341355  17.2976595    5.65855973\n",
      "    7.89014933   2.49215532   1.64849436   6.07974164  27.41384912\n",
      "   -0.12951323   1.8934796    0.68373033   1.64575952  -0.37988619\n",
      "   -0.10574325   1.73172346   8.2492029    4.72013549   1.23172707\n",
      "   16.20183006  -0.00849316   4.038711    -1.7666935    3.28218212\n",
      "   36.87602037   0.14064277   1.32848994   5.25789948  12.47383051\n",
      "    5.66331115   1.2111685   -0.14182628  -0.1058166    3.55488178\n",
      "   -0.27426149  -0.04893888   0.81073536  16.75612247   0.93236237\n",
      "    7.42491033  -0.07241074   7.68072464   0.84828358   4.31310574\n",
      "   63.29971019   1.98953577   3.31282463   1.3543514    5.67038203\n",
      "    8.18840891   0.14877801  19.72948442   5.02424701  -0.2279089\n",
      "    3.36401054   3.43572736   0.09464296   0.24834782  -0.00658319\n",
      "   65.23795261   0.89678804  -0.34172411  -0.06493016   0.51797686\n",
      "    0.84782279   5.06509099   2.88932061   0.11004665   3.02962551\n",
      "    3.23146181   1.6820726    2.58133219   2.457726    10.46595247\n",
      "    2.27288887   1.33730637   3.78156978  -0.50405659  -0.61869352\n",
      "   -2.00229076   0.61174698   0.65367883   1.45916516  -0.34832074\n",
      "    1.81010892   2.0630325  100.94825621  -0.28915513   2.26064032\n",
      "   13.92678668  83.05771603   0.53275244  -0.86239991  10.4013182\n",
      "   -0.33549497  -3.42108414   4.79083173  19.5300505   -3.67665153\n",
      "    3.45512778   0.53911069   0.69184032   0.32905501  -0.47121066\n",
      "    4.98702989  -0.21192806   7.16208556  -0.15369421   5.74420958\n",
      "    0.09818129  21.13399577   1.52633119  -0.68939468  -0.46453063\n",
      "   -0.25573059   7.79443781   3.7874896    2.05310299   3.80801697\n",
      "    0.25338868 135.59117522  32.95822805   4.9162334    0.35525635\n",
      "    1.83469869   0.58149762  -0.20208328   1.38915377   1.43308803\n",
      "   -0.13890039   4.2383712   -0.0576678   -0.44320329   4.90660503\n",
      "    0.45970213   1.84777323   3.6922466    8.02411153  -0.33525097\n",
      "    2.21239986   2.44536729   3.046864     5.61633668   0.40090416\n",
      "   -0.49488924  -0.18234585   8.37657805   4.99545162   1.05114335\n",
      "   -0.39987857   4.54475159   4.00657913  -0.27146684  -0.37850865]]\n"
     ]
    }
   ],
   "source": [
    "np.set_printoptions(suppress=True)\n",
    "print(cap_rate)"
   ]
  },
  {
   "cell_type": "code",
   "execution_count": null,
   "id": "eabb6543",
   "metadata": {},
   "outputs": [],
   "source": []
  },
  {
   "cell_type": "code",
   "execution_count": null,
   "id": "1671d560",
   "metadata": {},
   "outputs": [],
   "source": []
  },
  {
   "cell_type": "code",
   "execution_count": null,
   "id": "d4032831",
   "metadata": {},
   "outputs": [],
   "source": []
  },
  {
   "cell_type": "code",
   "execution_count": null,
   "id": "d2a592d6",
   "metadata": {},
   "outputs": [],
   "source": []
  },
  {
   "cell_type": "code",
   "execution_count": null,
   "id": "d33ed0bc",
   "metadata": {},
   "outputs": [],
   "source": []
  },
  {
   "cell_type": "code",
   "execution_count": null,
   "id": "4634d9d0",
   "metadata": {},
   "outputs": [],
   "source": []
  },
  {
   "cell_type": "code",
   "execution_count": null,
   "id": "8ac95c32",
   "metadata": {},
   "outputs": [],
   "source": []
  },
  {
   "cell_type": "code",
   "execution_count": null,
   "id": "70cf345f",
   "metadata": {},
   "outputs": [],
   "source": []
  },
  {
   "cell_type": "code",
   "execution_count": null,
   "id": "15112205",
   "metadata": {},
   "outputs": [],
   "source": []
  },
  {
   "cell_type": "code",
   "execution_count": 47,
   "id": "6ee050c7",
   "metadata": {},
   "outputs": [],
   "source": []
  },
  {
   "cell_type": "code",
   "execution_count": null,
   "id": "1ace25b6",
   "metadata": {},
   "outputs": [],
   "source": [
    "import numpy as np\n",
    "import matplotlib.pyplot as plt\n",
    "from matplotlib import cm\n",
    "from matplotlib.colors import ListedColormap, LinearSegmentedColormap\n",
    "import matplotlib.colors\n",
    "xdata=x_airbnb_price\n",
    "ydata=y_zillow_price\n",
    "norm=plt.Normalize(1,150)\n",
    "colorlist=[\"darkorange\", \"gold\", \"lawngreen\", \"lightseagreen\"]\n",
    "newcmp = LinearSegmentedColormap.from_list('testCmap', colors=colorlist, N=256)\n",
    "c=np.linspace(0,80,12)\n",
    "plt.scatter(xdata,ydata,c=c, cmap=newcmp, norm=norm)\n",
    "plt.colorbar()\n",
    "plt.show()"
   ]
  },
  {
   "cell_type": "code",
   "execution_count": null,
   "id": "674b1062",
   "metadata": {},
   "outputs": [],
   "source": []
  }
 ],
 "metadata": {
  "kernelspec": {
   "display_name": "PythonData",
   "language": "python",
   "name": "pythondata"
  },
  "language_info": {
   "codemirror_mode": {
    "name": "ipython",
    "version": 3
   },
   "file_extension": ".py",
   "mimetype": "text/x-python",
   "name": "python",
   "nbconvert_exporter": "python",
   "pygments_lexer": "ipython3",
   "version": "3.7.11"
  }
 },
 "nbformat": 4,
 "nbformat_minor": 5
}
